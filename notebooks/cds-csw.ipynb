{
 "cells": [
  {
   "cell_type": "markdown",
   "id": "22503339-d869-4478-9061-448e968259f6",
   "metadata": {},
   "source": [
    "# Query Climate Data Store Catalog Service\n",
    "\n",
    "https://geopython.github.io/OWSLib/usage.html#csw"
   ]
  },
  {
   "cell_type": "code",
   "execution_count": 1,
   "id": "27781443-6d1f-42a5-99b9-98c73b947b60",
   "metadata": {},
   "outputs": [],
   "source": [
    "from owslib.csw import CatalogueServiceWeb"
   ]
  },
  {
   "cell_type": "code",
   "execution_count": 2,
   "id": "e1750356-d0c7-4efe-9362-59a63ea88939",
   "metadata": {},
   "outputs": [],
   "source": [
    "csw = CatalogueServiceWeb(\"https://cds.climate.copernicus.eu/geonetwork/srv/eng/csw\")"
   ]
  },
  {
   "cell_type": "code",
   "execution_count": 3,
   "id": "01737e14-d26f-4cfd-b4ed-8f0080a8a0fc",
   "metadata": {},
   "outputs": [
    {
     "data": {
      "text/plain": [
       "'CSW'"
      ]
     },
     "execution_count": 3,
     "metadata": {},
     "output_type": "execute_result"
    }
   ],
   "source": [
    "csw.identification.type"
   ]
  },
  {
   "cell_type": "code",
   "execution_count": 4,
   "id": "15dd7974-9565-46ad-8ce8-a988766c324b",
   "metadata": {},
   "outputs": [
    {
     "data": {
      "text/plain": [
       "['GetCapabilities',\n",
       " 'DescribeRecord',\n",
       " 'GetDomain',\n",
       " 'GetRecords',\n",
       " 'GetRecordById',\n",
       " 'Transaction',\n",
       " 'Harvest']"
      ]
     },
     "execution_count": 4,
     "metadata": {},
     "output_type": "execute_result"
    }
   ],
   "source": [
    "[op.name for op in csw.operations]"
   ]
  },
  {
   "cell_type": "code",
   "execution_count": 5,
   "id": "973104fc-1679-4df2-93ff-1a032078f1b7",
   "metadata": {},
   "outputs": [],
   "source": [
    "from owslib.fes import PropertyIsEqualTo, PropertyIsLike, BBox"
   ]
  },
  {
   "cell_type": "code",
   "execution_count": 6,
   "id": "b03dd607-a1d8-4268-a40a-b02baeded08b",
   "metadata": {},
   "outputs": [],
   "source": [
    "cmip6_query = PropertyIsEqualTo('csw:AnyText', 'CMIP6 climate projections')"
   ]
  },
  {
   "cell_type": "code",
   "execution_count": 7,
   "id": "7ac4711f-39bf-4ba3-b89c-42375fa111c7",
   "metadata": {},
   "outputs": [],
   "source": [
    "csw.getrecords2(constraints=[cmip6_query], maxrecords=20)"
   ]
  },
  {
   "cell_type": "code",
   "execution_count": 8,
   "id": "aa61d5a1-7d19-4fcb-af09-76147e17a869",
   "metadata": {},
   "outputs": [
    {
     "data": {
      "text/plain": [
       "{'matches': 1, 'returned': 1, 'nextrecord': 0}"
      ]
     },
     "execution_count": 8,
     "metadata": {},
     "output_type": "execute_result"
    }
   ],
   "source": [
    "csw.results"
   ]
  },
  {
   "cell_type": "code",
   "execution_count": 9,
   "id": "a2da87f9-b912-408b-9f22-596ab6df6f9e",
   "metadata": {},
   "outputs": [
    {
     "name": "stdout",
     "output_type": "stream",
     "text": [
      "CMIP6 climate projections\n"
     ]
    }
   ],
   "source": [
    "for rec in csw.records:\n",
    "    item = csw.records[rec]\n",
    "    print(item.title)"
   ]
  },
  {
   "cell_type": "code",
   "execution_count": 10,
   "id": "c0e12dc1-6aab-471b-b18b-1bd987622cf7",
   "metadata": {},
   "outputs": [
    {
     "name": "stdout",
     "output_type": "stream",
     "text": [
      "b'<csw:SummaryRecord xmlns:dc=\"http://purl.org/dc/elements/1.1/\" xmlns:geonet=\"http://www.fao.org/geonetwork\" xmlns:dct=\"http://purl.org/dc/terms/\" xmlns:csw=\"http://www.opengis.net/cat/csw/2.0.2\" xmlns:xsi=\"http://www.w3.org/2001/XMLSchema-instance\">\\n      <dc:identifier>eu.copernicus.climate.projections-cmip6</dc:identifier>\\n      <dc:title>CMIP6 climate projections</dc:title>\\n      <dc:type>dataset</dc:type>\\n      <dc:subject>Atmospheric conditions</dc:subject>\\n      <dc:subject>Spatial coverage: Global</dc:subject>\\n      <dc:subject>Variable domain: Atmosphere (surface)</dc:subject>\\n      <dc:subject>Variable domain: Atmosphere (upper air)</dc:subject>\\n      <dc:subject>Temporal coverage: Future</dc:subject>\\n      <dc:subject>Temporal coverage: Past</dc:subject>\\n      <dc:subject>Temporal coverage: Present</dc:subject>\\n      <dc:subject>Product type: Climate projections</dc:subject>\\n      <dc:subject>climatologyMeteorologyAtmosphere</dc:subject>\\n      <dc:format>netcdf</dc:format>\\n      <dct:abstract>Abstract missing.</dct:abstract>\\n    </csw:SummaryRecord>\\n  '\n"
     ]
    }
   ],
   "source": [
    "print(item.xml)"
   ]
  }
 ],
 "metadata": {
  "kernelspec": {
   "display_name": "Python 3 (ipykernel)",
   "language": "python",
   "name": "python3"
  },
  "language_info": {
   "codemirror_mode": {
    "name": "ipython",
    "version": 3
   },
   "file_extension": ".py",
   "mimetype": "text/x-python",
   "name": "python",
   "nbconvert_exporter": "python",
   "pygments_lexer": "ipython3",
   "version": "3.9.7"
  }
 },
 "nbformat": 4,
 "nbformat_minor": 5
}
